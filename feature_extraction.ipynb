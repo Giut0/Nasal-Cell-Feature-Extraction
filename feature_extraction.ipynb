{
 "cells": [
  {
   "cell_type": "markdown",
   "metadata": {},
   "source": [
    "### Morfologia (Shape Features)\n",
    "\n",
    "Le caratteristiche morfologiche includono dimensioni, forme e bordi delle cellule. Queste features possono essere estratte utilizzando strumenti di elaborazione delle immagini come OpenCV o scikit-image."
   ]
  },
  {
   "cell_type": "code",
   "execution_count": 11,
   "metadata": {},
   "outputs": [],
   "source": [
    "import cv2\n",
    "import numpy as np\n",
    "\n",
    "def extract_morphological_features(image):\n",
    "    # Convert to grayscale\n",
    "    gray = cv2.cvtColor(image, cv2.COLOR_BGR2GRAY)\n",
    "    # Threshold to get binary image\n",
    "    _, binary = cv2.threshold(gray, 127, 255, cv2.THRESH_BINARY) # Converte l'immagine in solo pixel neri o bianchi\n",
    "    # Find contours\n",
    "    contours, _ = cv2.findContours(binary, cv2.RETR_EXTERNAL, cv2.CHAIN_APPROX_SIMPLE)\n",
    "    \n",
    "    features = []\n",
    "    for contour in contours:\n",
    "        area = cv2.contourArea(contour)\n",
    "        perimeter = cv2.arcLength(contour, True)\n",
    "        # More shape features can be extracted here\n",
    "        \n",
    "        features.extend([area, perimeter])\n",
    "    \n",
    "    return np.array(features)\n"
   ]
  },
  {
   "cell_type": "markdown",
   "metadata": {},
   "source": [
    "### Texture Features\n",
    "\n",
    "Le caratteristiche della texture descrivono le variazioni nei livelli di grigio all'interno dell'immagine. Le matrici di co-occorrenza a livello di grigio (GLCM) sono comunemente usate per questo scopo."
   ]
  },
  {
   "cell_type": "code",
   "execution_count": 12,
   "metadata": {},
   "outputs": [],
   "source": [
    "from skimage.feature import *\n",
    "def extract_texture_features(image):\n",
    "    # Convert to grayscale\n",
    "    gray = cv2.cvtColor(image, cv2.COLOR_BGR2GRAY)\n",
    "    \n",
    "    glcm = greycomatrix(gray, [1], [0], symmetric=True, normed=True) # Valta coppue di pixel a distanza 1 e angolo 0 \n",
    "    \n",
    "    contrast = greycoprops(glcm, 'contrast')[0, 0]\n",
    "    dissimilarity = greycoprops(glcm, 'dissimilarity')[0, 0]\n",
    "    homogeneity = greycoprops(glcm, 'homogeneity')[0, 0]\n",
    "    energy = greycoprops(glcm, 'energy')[0, 0]\n",
    "    correlation = greycoprops(glcm, 'correlation')[0, 0]\n",
    "    \n",
    "    texture_features = [contrast, dissimilarity, homogeneity, energy, correlation]\n",
    "    \n",
    "    return np.array(texture_features)"
   ]
  },
  {
   "cell_type": "markdown",
   "metadata": {},
   "source": [
    "### Color Features\n",
    "\n",
    "Le caratteristiche del colore sono importanti per descrivere le proprietà visive delle immagini delle cellule. Gli istogrammi dei colori possono fornire una rappresentazione della distribuzione dei colori."
   ]
  },
  {
   "cell_type": "code",
   "execution_count": 13,
   "metadata": {},
   "outputs": [],
   "source": [
    "def extract_color_features(image):\n",
    "    # Calculate color histogram\n",
    "    hist = cv2.calcHist([image], [0, 1, 2], None, [8, 8, 8], [0, 256, 0, 256, 0, 256])\n",
    "    hist = cv2.normalize(hist, hist).flatten()\n",
    "    return hist\n"
   ]
  },
  {
   "cell_type": "code",
   "execution_count": 14,
   "metadata": {},
   "outputs": [],
   "source": [
    "def extract_features(image_path):\n",
    "    image = cv2.imread(image_path)\n",
    "    \n",
    "    morphological_features = extract_morphological_features(image)\n",
    "    #texture_features = extract_texture_features(image)\n",
    "    color_features = extract_color_features(image)\n",
    "    \n",
    "    # Combine all features into a single feature vector\n",
    "    features = np.hstack([morphological_features, color_features])\n",
    "    \n",
    "    return features\n"
   ]
  }
 ],
 "metadata": {
  "kernelspec": {
   "display_name": "Python 3",
   "language": "python",
   "name": "python3"
  },
  "language_info": {
   "codemirror_mode": {
    "name": "ipython",
    "version": 3
   },
   "file_extension": ".py",
   "mimetype": "text/x-python",
   "name": "python",
   "nbconvert_exporter": "python",
   "pygments_lexer": "ipython3",
   "version": "3.10.12"
  }
 },
 "nbformat": 4,
 "nbformat_minor": 2
}
