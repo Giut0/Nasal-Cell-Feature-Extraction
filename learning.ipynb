{
 "cells": [
  {
   "cell_type": "code",
   "execution_count": 135,
   "metadata": {},
   "outputs": [],
   "source": [
    "import pandas as pd\n",
    "import numpy as np\n",
    "from sklearn.model_selection import train_test_split\n",
    "from sklearn.ensemble import RandomForestClassifier\n",
    "from sklearn.preprocessing import LabelEncoder\n",
    "from sklearn.metrics import accuracy_score\n",
    "from sklearn.metrics import accuracy_score, roc_auc_score, fbeta_score, precision_score, recall_score, roc_curve"
   ]
  },
  {
   "cell_type": "code",
   "execution_count": 136,
   "metadata": {},
   "outputs": [],
   "source": [
    "import cv2\n",
    "import numpy as np\n",
    "\n",
    "def extract_morphological_features(image, max_contours=1):\n",
    "    # Convert to grayscale\n",
    "    gray = cv2.cvtColor(image, cv2.COLOR_BGR2GRAY)\n",
    "    # Threshold to get binary image\n",
    "    _, binary = cv2.threshold(gray, 127, 255, cv2.THRESH_BINARY)\n",
    "    # Find contours\n",
    "    contours, _ = cv2.findContours(binary, cv2.RETR_EXTERNAL, cv2.CHAIN_APPROX_SIMPLE)\n",
    "    \n",
    "    features = []\n",
    "    for contour in contours[:max_contours]:\n",
    "        area = cv2.contourArea(contour)\n",
    "        perimeter = cv2.arcLength(contour, True)\n",
    "        features.extend([area, perimeter])\n",
    "    \n",
    "    # Riempire con zeri se ci sono meno contorni del massimo\n",
    "    while len(features) < max_contours * 2:\n",
    "        features.append(0)\n",
    "    \n",
    "    return np.array(features)"
   ]
  },
  {
   "cell_type": "code",
   "execution_count": 137,
   "metadata": {},
   "outputs": [],
   "source": [
    "from skimage.feature import *\n",
    "def extract_texture_features(image):\n",
    "    # Convert to grayscale\n",
    "    gray = cv2.cvtColor(image, cv2.COLOR_BGR2GRAY)\n",
    "    \n",
    "    glcm = greycomatrix(gray, [1], [0], symmetric=True, normed=True) # Valta coppue di pixel a distanza 1 e angolo 0 \n",
    "    \n",
    "    contrast = greycoprops(glcm, 'contrast')[0, 0]\n",
    "    dissimilarity = greycoprops(glcm, 'dissimilarity')[0, 0]\n",
    "    homogeneity = greycoprops(glcm, 'homogeneity')[0, 0]\n",
    "    energy = greycoprops(glcm, 'energy')[0, 0]\n",
    "    correlation = greycoprops(glcm, 'correlation')[0, 0]\n",
    "    \n",
    "    texture_features = [contrast, dissimilarity, homogeneity, energy, correlation]\n",
    "    \n",
    "    return np.array(texture_features)"
   ]
  },
  {
   "cell_type": "code",
   "execution_count": 138,
   "metadata": {},
   "outputs": [],
   "source": [
    "def extract_color_features(image, hist_size=512):\n",
    "    # Calculate color histogram\n",
    "    hist = cv2.calcHist([image], [0, 1, 2], None, [8, 8, 8], [0, 256, 0, 256, 0, 256])\n",
    "    hist = cv2.normalize(hist, hist).flatten()\n",
    "    \n",
    "    # Assicurarsi che l'istogramma abbia una dimensione fissa\n",
    "    if hist.size < hist_size:\n",
    "        hist = np.pad(hist, (0, hist_size - hist.size), 'constant')\n",
    "    else:\n",
    "        hist = hist[:hist_size]\n",
    "    \n",
    "    return hist\n"
   ]
  },
  {
   "cell_type": "code",
   "execution_count": 139,
   "metadata": {},
   "outputs": [],
   "source": [
    "def extract_features(image_path):\n",
    "    image = cv2.imread(image_path)\n",
    "    \n",
    "    morphological_features = extract_morphological_features(image)\n",
    "    #texture_features = extract_texture_features(image)\n",
    "    color_features = extract_color_features(image)\n",
    "    \n",
    "    # Combine all features into a single feature vector\n",
    "    features = np.hstack([morphological_features, color_features])\n",
    "    \n",
    "    return features"
   ]
  },
  {
   "cell_type": "code",
   "execution_count": 140,
   "metadata": {},
   "outputs": [
    {
     "data": {
      "text/html": [
       "<div>\n",
       "<style scoped>\n",
       "    .dataframe tbody tr th:only-of-type {\n",
       "        vertical-align: middle;\n",
       "    }\n",
       "\n",
       "    .dataframe tbody tr th {\n",
       "        vertical-align: top;\n",
       "    }\n",
       "\n",
       "    .dataframe thead th {\n",
       "        text-align: right;\n",
       "    }\n",
       "</style>\n",
       "<table border=\"1\" class=\"dataframe\">\n",
       "  <thead>\n",
       "    <tr style=\"text-align: right;\">\n",
       "      <th></th>\n",
       "      <th>filename</th>\n",
       "      <th>class</th>\n",
       "    </tr>\n",
       "  </thead>\n",
       "  <tbody>\n",
       "    <tr>\n",
       "      <th>0</th>\n",
       "      <td>img-0137_png_jpg.rf.0ea8b8dcfc295e58f709f8eadc...</td>\n",
       "      <td>neutrophil</td>\n",
       "    </tr>\n",
       "    <tr>\n",
       "      <th>1</th>\n",
       "      <td>img-0073_png_jpg.rf.1e42284b7c00c8e1e02b03c9f1...</td>\n",
       "      <td>neutrophil</td>\n",
       "    </tr>\n",
       "    <tr>\n",
       "      <th>2</th>\n",
       "      <td>img-0197_png_jpg.rf.3104549baeb172a227efa2ac87...</td>\n",
       "      <td>neutrophil</td>\n",
       "    </tr>\n",
       "    <tr>\n",
       "      <th>3</th>\n",
       "      <td>img-0059_png_jpg.rf.90762669b9486e21e6ce570efb...</td>\n",
       "      <td>neutrophil</td>\n",
       "    </tr>\n",
       "    <tr>\n",
       "      <th>4</th>\n",
       "      <td>img-0081_png_jpg.rf.2151947735c50695395cfc7847...</td>\n",
       "      <td>neutrophil</td>\n",
       "    </tr>\n",
       "    <tr>\n",
       "      <th>...</th>\n",
       "      <td>...</td>\n",
       "      <td>...</td>\n",
       "    </tr>\n",
       "    <tr>\n",
       "      <th>7102</th>\n",
       "      <td>img-0082_png_jpg.rf.9719f27bbe102f331e38eb039e...</td>\n",
       "      <td>artefatto</td>\n",
       "    </tr>\n",
       "    <tr>\n",
       "      <th>7103</th>\n",
       "      <td>img-0224_png_jpg.rf.b4aae7b06a2394a5bedde89880...</td>\n",
       "      <td>artefatto</td>\n",
       "    </tr>\n",
       "    <tr>\n",
       "      <th>7104</th>\n",
       "      <td>img-0134_png_jpg.rf.4099dc986ce0b3a39a40de4780...</td>\n",
       "      <td>artefatto</td>\n",
       "    </tr>\n",
       "    <tr>\n",
       "      <th>7105</th>\n",
       "      <td>img-0048_png_jpg.rf.80ebfae57f4023c2d8ef9ff0ae...</td>\n",
       "      <td>artefatto</td>\n",
       "    </tr>\n",
       "    <tr>\n",
       "      <th>7106</th>\n",
       "      <td>img-0212_png_jpg.rf.9c45f9d54c589d433a195adbee...</td>\n",
       "      <td>artefatto</td>\n",
       "    </tr>\n",
       "  </tbody>\n",
       "</table>\n",
       "<p>7107 rows × 2 columns</p>\n",
       "</div>"
      ],
      "text/plain": [
       "                                               filename       class\n",
       "0     img-0137_png_jpg.rf.0ea8b8dcfc295e58f709f8eadc...  neutrophil\n",
       "1     img-0073_png_jpg.rf.1e42284b7c00c8e1e02b03c9f1...  neutrophil\n",
       "2     img-0197_png_jpg.rf.3104549baeb172a227efa2ac87...  neutrophil\n",
       "3     img-0059_png_jpg.rf.90762669b9486e21e6ce570efb...  neutrophil\n",
       "4     img-0081_png_jpg.rf.2151947735c50695395cfc7847...  neutrophil\n",
       "...                                                 ...         ...\n",
       "7102  img-0082_png_jpg.rf.9719f27bbe102f331e38eb039e...   artefatto\n",
       "7103  img-0224_png_jpg.rf.b4aae7b06a2394a5bedde89880...   artefatto\n",
       "7104  img-0134_png_jpg.rf.4099dc986ce0b3a39a40de4780...   artefatto\n",
       "7105  img-0048_png_jpg.rf.80ebfae57f4023c2d8ef9ff0ae...   artefatto\n",
       "7106  img-0212_png_jpg.rf.9c45f9d54c589d433a195adbee...   artefatto\n",
       "\n",
       "[7107 rows x 2 columns]"
      ]
     },
     "execution_count": 140,
     "metadata": {},
     "output_type": "execute_result"
    }
   ],
   "source": [
    "# Load datasets\n",
    "df = pd.read_csv(\"isolated_cells/single_cell_dataset.csv\")\n",
    "df"
   ]
  },
  {
   "cell_type": "code",
   "execution_count": 141,
   "metadata": {},
   "outputs": [],
   "source": [
    "features = []\n",
    "labels = []\n",
    "\n",
    "# Estrarre features per ciascuna immagine\n",
    "for index, row in df.iterrows():\n",
    "        image_path = f\"isolated_cells/{row['class']}/{row['filename']}\"\n",
    "        features_list = extract_features(image_path)\n",
    "\n",
    "        features.append(features_list)\n",
    "        labels.append(row['class'])\n",
    "        "
   ]
  },
  {
   "cell_type": "code",
   "execution_count": 142,
   "metadata": {},
   "outputs": [],
   "source": [
    "# Supponendo che 'features' sia la lista delle feature arrays e 'labels' sia la lista delle etichette\n",
    "X = np.array(features)  # Converte la lista delle feature in un array numpy\n",
    "y = np.array(labels)    # Converte la lista delle etichette in un array numpy\n",
    "\n",
    "# Dividi il dataset in set di addestramento e set di test\n",
    "X_train, X_test, y_train, y_test = train_test_split(X, y, test_size=0.2, random_state=42)"
   ]
  },
  {
   "cell_type": "code",
   "execution_count": 143,
   "metadata": {},
   "outputs": [
    {
     "name": "stdout",
     "output_type": "stream",
     "text": [
      "Accuracy: 78.83%\n"
     ]
    }
   ],
   "source": [
    "# Scegliere un modello, ad esempio, Random Forest Classifier\n",
    "model = RandomForestClassifier()\n",
    "\n",
    "# Addestrare il modello\n",
    "model.fit(X_train, y_train)\n",
    "\n",
    "# Prevedere con il modello\n",
    "y_pred = model.predict(X_test)\n",
    "\n",
    "# Valutare il modello\n",
    "accuracy = accuracy_score(y_test, y_pred)\n",
    "print(f'Accuracy: {accuracy * 100:.2f}%')"
   ]
  },
  {
   "cell_type": "code",
   "execution_count": 144,
   "metadata": {},
   "outputs": [
    {
     "name": "stdout",
     "output_type": "stream",
     "text": [
      "------ RandomForestClassifier ------\n",
      "Accuracy: 0.7883263009845288\n",
      "Precision: 0.7748041499040983\n",
      "Recall: 0.7883263009845288\n",
      "---------------------------------------------------------\n"
     ]
    },
    {
     "name": "stderr",
     "output_type": "stream",
     "text": [
      "/home/giuto/.local/lib/python3.10/site-packages/sklearn/metrics/_classification.py:1344: UndefinedMetricWarning: Precision is ill-defined and being set to 0.0 in labels with no predicted samples. Use `zero_division` parameter to control this behavior.\n",
      "  _warn_prf(average, modifier, msg_start, len(result))\n"
     ]
    }
   ],
   "source": [
    "print(\"------ RandomForestClassifier ------\")\n",
    "print(\"Accuracy:\", accuracy_score(y_test, y_pred))\n",
    "print(\"Precision:\", precision_score(y_test, y_pred, average=\"weighted\"))\n",
    "print(\"Recall:\", recall_score(y_test, y_pred, average=\"weighted\"))\n",
    "print(\"---------------------------------------------------------\")"
   ]
  },
  {
   "cell_type": "code",
   "execution_count": 145,
   "metadata": {},
   "outputs": [
    {
     "data": {
      "text/plain": [
       "{'fit_time': array([1.66333008, 1.49780583, 1.57111144, 1.51226044, 1.55753779,\n",
       "        1.60874081, 1.60093594, 1.56717372, 1.59463573, 1.6185317 ]),\n",
       " 'score_time': array([0.02557778, 0.02298546, 0.02479792, 0.02400088, 0.02493644,\n",
       "        0.02365351, 0.02633929, 0.02492642, 0.0243144 , 0.02315688]),\n",
       " 'test_accuracy': array([0.7862166 , 0.79465541, 0.79746835, 0.78481013, 0.76933896,\n",
       "        0.78199719, 0.79324895, 0.78591549, 0.80140845, 0.81126761])}"
      ]
     },
     "execution_count": 145,
     "metadata": {},
     "output_type": "execute_result"
    }
   ],
   "source": [
    "from sklearn.model_selection import cross_validate\n",
    "cross_validate(model, X, y, cv=10, scoring=['accuracy'])"
   ]
  }
 ],
 "metadata": {
  "kernelspec": {
   "display_name": "Python 3",
   "language": "python",
   "name": "python3"
  },
  "language_info": {
   "codemirror_mode": {
    "name": "ipython",
    "version": 3
   },
   "file_extension": ".py",
   "mimetype": "text/x-python",
   "name": "python",
   "nbconvert_exporter": "python",
   "pygments_lexer": "ipython3",
   "version": "3.10.12"
  }
 },
 "nbformat": 4,
 "nbformat_minor": 2
}
