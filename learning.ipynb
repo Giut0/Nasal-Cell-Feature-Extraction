{
 "cells": [
  {
   "cell_type": "code",
   "execution_count": 12,
   "metadata": {},
   "outputs": [],
   "source": [
    "import pandas as pd\n",
    "import numpy as np\n",
    "import cv2\n",
    "from skimage.feature import *\n",
    "\n",
    "from sklearn.model_selection import train_test_split\n",
    "from sklearn.ensemble import RandomForestClassifier\n",
    "from sklearn.metrics import accuracy_score\n",
    "from sklearn.metrics import accuracy_score, precision_score, recall_score\n",
    "from sklearn.model_selection import cross_validate"
   ]
  },
  {
   "cell_type": "markdown",
   "metadata": {},
   "source": [
    "### Morphological features\n",
    "Morphological features are geometric and structural characteristics extracted from the shapes and contours of objects in images. These include measurements such as area, perimeter, etc..\n",
    " \n",
    "They are used to describe the morphology of structures visible in images."
   ]
  },
  {
   "cell_type": "code",
   "execution_count": 13,
   "metadata": {},
   "outputs": [],
   "source": [
    "def extract_morphological_features(image, max_contours=2):\n",
    "    # Convert to grayscale\n",
    "    gray = cv2.cvtColor(image, cv2.COLOR_BGR2GRAY)\n",
    "    # Threshold to get binary image\n",
    "    _, binary = cv2.threshold(gray, 127, 255, cv2.THRESH_BINARY)\n",
    "    # Find contours\n",
    "    contours, _ = cv2.findContours(binary, cv2.RETR_EXTERNAL, cv2.CHAIN_APPROX_SIMPLE)\n",
    "    \n",
    "    features = []\n",
    "    for contour in contours[:max_contours]:\n",
    "        # Extract area\n",
    "        area = cv2.contourArea(contour)\n",
    "        # Extract perimeter\n",
    "        perimeter = cv2.arcLength(contour, True)\n",
    "        \n",
    "        features.extend([area, perimeter])\n",
    "    \n",
    "    # Fill with zeros if there are less contours then max\n",
    "    while len(features) < max_contours * 2:\n",
    "        features.append(0)\n",
    "    \n",
    "    return np.array(features)"
   ]
  },
  {
   "cell_type": "markdown",
   "metadata": {},
   "source": [
    "### Texture features\n",
    "Texture features are characteristics that describe the variation of intensity or colour in an image.\n",
    " \n",
    "They are used to identify and classify repetitive patterns and textures in images."
   ]
  },
  {
   "cell_type": "code",
   "execution_count": 14,
   "metadata": {},
   "outputs": [],
   "source": [
    "def extract_texture_features(image):\n",
    "    # Convert to grayscale\n",
    "    gray = cv2.cvtColor(image, cv2.COLOR_BGR2GRAY)\n",
    "    # Calculate grey level co-occurrence matrix\n",
    "    glcm = graycomatrix(gray, distances=[1], angles=[0], symmetric=True, normed=True)\n",
    "    # Get properties from matrix\n",
    "    contrast = graycoprops(glcm, 'contrast')[0, 0]\n",
    "    dissimilarity = graycoprops(glcm, 'dissimilarity')[0, 0]\n",
    "    homogeneity = graycoprops(glcm, 'homogeneity')[0, 0]\n",
    "    energy = graycoprops(glcm, 'energy')[0, 0]\n",
    "    correlation = graycoprops(glcm, 'correlation')[0, 0]\n",
    "    \n",
    "    texture_features = [contrast, dissimilarity, homogeneity, energy, correlation]\n",
    "    \n",
    "    return np.array(texture_features)"
   ]
  },
  {
   "cell_type": "markdown",
   "metadata": {},
   "source": [
    "### Colour features\n",
    "Colour features are characteristics that describe the distribution and intensity of colours in an image."
   ]
  },
  {
   "cell_type": "code",
   "execution_count": 15,
   "metadata": {},
   "outputs": [],
   "source": [
    "def extract_color_features(image, hist_size=512):\n",
    "    # Calculate color histogram\n",
    "    hist = cv2.calcHist([image], [0, 1, 2], None, [8, 8, 8], [0, 256, 0, 256, 0, 256])\n",
    "    hist = cv2.normalize(hist, hist).flatten()\n",
    "    return hist\n"
   ]
  },
  {
   "cell_type": "code",
   "execution_count": 16,
   "metadata": {},
   "outputs": [],
   "source": [
    "def extract_features(image_path):\n",
    "    image = cv2.imread(image_path)\n",
    "    \n",
    "    morphological_features = extract_morphological_features(image)\n",
    "    texture_features = extract_texture_features(image)\n",
    "    color_features = extract_color_features(image)\n",
    "    \n",
    "    # Combine all features into a single feature vector\n",
    "    features = np.hstack([morphological_features, texture_features, color_features])\n",
    "    \n",
    "    return features"
   ]
  },
  {
   "cell_type": "code",
   "execution_count": 17,
   "metadata": {},
   "outputs": [
    {
     "data": {
      "text/html": [
       "<div>\n",
       "<style scoped>\n",
       "    .dataframe tbody tr th:only-of-type {\n",
       "        vertical-align: middle;\n",
       "    }\n",
       "\n",
       "    .dataframe tbody tr th {\n",
       "        vertical-align: top;\n",
       "    }\n",
       "\n",
       "    .dataframe thead th {\n",
       "        text-align: right;\n",
       "    }\n",
       "</style>\n",
       "<table border=\"1\" class=\"dataframe\">\n",
       "  <thead>\n",
       "    <tr style=\"text-align: right;\">\n",
       "      <th></th>\n",
       "      <th>filename</th>\n",
       "      <th>class</th>\n",
       "    </tr>\n",
       "  </thead>\n",
       "  <tbody>\n",
       "    <tr>\n",
       "      <th>0</th>\n",
       "      <td>img-0137_png_jpg.rf.0ea8b8dcfc295e58f709f8eadc...</td>\n",
       "      <td>neutrophil</td>\n",
       "    </tr>\n",
       "    <tr>\n",
       "      <th>1</th>\n",
       "      <td>img-0073_png_jpg.rf.1e42284b7c00c8e1e02b03c9f1...</td>\n",
       "      <td>neutrophil</td>\n",
       "    </tr>\n",
       "    <tr>\n",
       "      <th>2</th>\n",
       "      <td>img-0197_png_jpg.rf.3104549baeb172a227efa2ac87...</td>\n",
       "      <td>neutrophil</td>\n",
       "    </tr>\n",
       "    <tr>\n",
       "      <th>3</th>\n",
       "      <td>img-0059_png_jpg.rf.90762669b9486e21e6ce570efb...</td>\n",
       "      <td>neutrophil</td>\n",
       "    </tr>\n",
       "    <tr>\n",
       "      <th>4</th>\n",
       "      <td>img-0081_png_jpg.rf.2151947735c50695395cfc7847...</td>\n",
       "      <td>neutrophil</td>\n",
       "    </tr>\n",
       "    <tr>\n",
       "      <th>...</th>\n",
       "      <td>...</td>\n",
       "      <td>...</td>\n",
       "    </tr>\n",
       "    <tr>\n",
       "      <th>7102</th>\n",
       "      <td>img-0082_png_jpg.rf.9719f27bbe102f331e38eb039e...</td>\n",
       "      <td>artefatto</td>\n",
       "    </tr>\n",
       "    <tr>\n",
       "      <th>7103</th>\n",
       "      <td>img-0224_png_jpg.rf.b4aae7b06a2394a5bedde89880...</td>\n",
       "      <td>artefatto</td>\n",
       "    </tr>\n",
       "    <tr>\n",
       "      <th>7104</th>\n",
       "      <td>img-0134_png_jpg.rf.4099dc986ce0b3a39a40de4780...</td>\n",
       "      <td>artefatto</td>\n",
       "    </tr>\n",
       "    <tr>\n",
       "      <th>7105</th>\n",
       "      <td>img-0048_png_jpg.rf.80ebfae57f4023c2d8ef9ff0ae...</td>\n",
       "      <td>artefatto</td>\n",
       "    </tr>\n",
       "    <tr>\n",
       "      <th>7106</th>\n",
       "      <td>img-0212_png_jpg.rf.9c45f9d54c589d433a195adbee...</td>\n",
       "      <td>artefatto</td>\n",
       "    </tr>\n",
       "  </tbody>\n",
       "</table>\n",
       "<p>7107 rows × 2 columns</p>\n",
       "</div>"
      ],
      "text/plain": [
       "                                               filename       class\n",
       "0     img-0137_png_jpg.rf.0ea8b8dcfc295e58f709f8eadc...  neutrophil\n",
       "1     img-0073_png_jpg.rf.1e42284b7c00c8e1e02b03c9f1...  neutrophil\n",
       "2     img-0197_png_jpg.rf.3104549baeb172a227efa2ac87...  neutrophil\n",
       "3     img-0059_png_jpg.rf.90762669b9486e21e6ce570efb...  neutrophil\n",
       "4     img-0081_png_jpg.rf.2151947735c50695395cfc7847...  neutrophil\n",
       "...                                                 ...         ...\n",
       "7102  img-0082_png_jpg.rf.9719f27bbe102f331e38eb039e...   artefatto\n",
       "7103  img-0224_png_jpg.rf.b4aae7b06a2394a5bedde89880...   artefatto\n",
       "7104  img-0134_png_jpg.rf.4099dc986ce0b3a39a40de4780...   artefatto\n",
       "7105  img-0048_png_jpg.rf.80ebfae57f4023c2d8ef9ff0ae...   artefatto\n",
       "7106  img-0212_png_jpg.rf.9c45f9d54c589d433a195adbee...   artefatto\n",
       "\n",
       "[7107 rows x 2 columns]"
      ]
     },
     "execution_count": 17,
     "metadata": {},
     "output_type": "execute_result"
    }
   ],
   "source": [
    "# Load dataset\n",
    "df = pd.read_csv(\"isolated_cells/single_cell_dataset.csv\")\n",
    "df"
   ]
  },
  {
   "cell_type": "code",
   "execution_count": 18,
   "metadata": {},
   "outputs": [],
   "source": [
    "features = []\n",
    "labels = []\n",
    "\n",
    "# Extract features array for each image\n",
    "for index, row in df.iterrows():\n",
    "        image_path = f\"isolated_cells/{row['class']}/{row['filename']}\"\n",
    "        # Save features array\n",
    "        features_list = extract_features(image_path)\n",
    "        features.append(features_list)\n",
    "        #Save labels\n",
    "        labels.append(row['class'])\n",
    "        "
   ]
  },
  {
   "cell_type": "code",
   "execution_count": 19,
   "metadata": {},
   "outputs": [],
   "source": [
    "X = np.array(features)\n",
    "y = np.array(labels)\n",
    "\n",
    "# Split dataset in train and test\n",
    "X_train, X_test, y_train, y_test = train_test_split(X, y, test_size=0.2, random_state=42)"
   ]
  },
  {
   "cell_type": "code",
   "execution_count": 27,
   "metadata": {},
   "outputs": [],
   "source": [
    "model = RandomForestClassifier(n_estimators=200, criterion='gini')\n",
    "model.fit(X_train, y_train)\n",
    "y_pred = model.predict(X_test)"
   ]
  },
  {
   "cell_type": "code",
   "execution_count": 30,
   "metadata": {},
   "outputs": [
    {
     "name": "stdout",
     "output_type": "stream",
     "text": [
      "------ RandomForestClassifier ------\n",
      "Accuracy: 0.8002812939521801\n",
      "Precision: 0.7823542103033043\n",
      "Recall: 0.8002812939521801\n",
      "---------------------------------------------------------\n"
     ]
    },
    {
     "name": "stderr",
     "output_type": "stream",
     "text": [
      "/home/giuto/.local/lib/python3.10/site-packages/sklearn/metrics/_classification.py:1344: UndefinedMetricWarning: Precision is ill-defined and being set to 0.0 in labels with no predicted samples. Use `zero_division` parameter to control this behavior.\n",
      "  _warn_prf(average, modifier, msg_start, len(result))\n"
     ]
    }
   ],
   "source": [
    "# Calculate metrics\n",
    "print(\"------ RandomForestClassifier ------\")\n",
    "print(\"Accuracy:\", accuracy_score(y_test, y_pred))\n",
    "print(\"Precision:\", precision_score(y_test, y_pred, average=\"weighted\"))\n",
    "print(\"Recall:\", recall_score(y_test, y_pred, average=\"weighted\"))\n",
    "print(\"---------------------------------------------------------\")"
   ]
  },
  {
   "cell_type": "code",
   "execution_count": 31,
   "metadata": {},
   "outputs": [
    {
     "data": {
      "text/plain": [
       "{'fit_time': array([3.60548854, 3.51310897, 3.29190421, 3.30488896, 3.25951099,\n",
       "        3.38028574, 3.4466114 , 3.45351553, 3.6470294 , 3.84648728]),\n",
       " 'score_time': array([0.0485177 , 0.0457058 , 0.04486823, 0.04226017, 0.04835176,\n",
       "        0.04479671, 0.04528618, 0.04458475, 0.05032134, 0.05085611]),\n",
       " 'test_accuracy': array([0.80590717, 0.80168776, 0.79324895, 0.80872011, 0.78762307,\n",
       "        0.80028129, 0.79184248, 0.78873239, 0.8084507 , 0.80985915])}"
      ]
     },
     "execution_count": 31,
     "metadata": {},
     "output_type": "execute_result"
    }
   ],
   "source": [
    "cross_validate(model, X, y, cv=10, scoring=['accuracy'])"
   ]
  }
 ],
 "metadata": {
  "kernelspec": {
   "display_name": "Python 3",
   "language": "python",
   "name": "python3"
  },
  "language_info": {
   "codemirror_mode": {
    "name": "ipython",
    "version": 3
   },
   "file_extension": ".py",
   "mimetype": "text/x-python",
   "name": "python",
   "nbconvert_exporter": "python",
   "pygments_lexer": "ipython3",
   "version": "3.10.12"
  }
 },
 "nbformat": 4,
 "nbformat_minor": 2
}
